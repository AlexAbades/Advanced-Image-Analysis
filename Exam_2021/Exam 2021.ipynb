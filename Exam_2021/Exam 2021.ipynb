{
 "cells": [
  {
   "cell_type": "code",
   "execution_count": 112,
   "metadata": {},
   "outputs": [],
   "source": [
    "import numpy as np\n",
    "import os \n",
    "import matplotlib.pyplot as plt\n",
    "import skimage.io\n",
    "import cv2\n",
    "import skimage.feature"
   ]
  },
  {
   "cell_type": "code",
   "execution_count": 15,
   "metadata": {},
   "outputs": [],
   "source": [
    "path = os.getcwd()"
   ]
  },
  {
   "cell_type": "code",
   "execution_count": 12,
   "metadata": {},
   "outputs": [
    {
     "data": {
      "text/plain": [
       "147.36"
      ]
     },
     "execution_count": 12,
     "metadata": {},
     "output_type": "execute_result"
    }
   ],
   "source": [
    "# 1 \n",
    "scale = 12 \n",
    "Lxx = 5.12 \n",
    "Lyy = 7.16\n",
    "\n",
    "lap = scale*(Lxx + Lyy)\n",
    "lap"
   ]
  },
  {
   "cell_type": "code",
   "execution_count": 13,
   "metadata": {},
   "outputs": [
    {
     "data": {
      "text/plain": [
       "(39.8, 41.099999999999994, 39.2, 35)"
      ]
     },
     "execution_count": 13,
     "metadata": {},
     "output_type": "execute_result"
    }
   ],
   "source": [
    "# 2\n",
    "19.9*2, 13.7*3, 9.8*4, 7*5"
   ]
  },
  {
   "cell_type": "code",
   "execution_count": 22,
   "metadata": {},
   "outputs": [
    {
     "data": {
      "text/plain": [
       "array([[ 4.4,  5.9,  4.9,  0.4,  3.3,  4.4,  2.5,  2.6,  4.7,  5.8,  1.1,\n",
       "         3.9,  0.3,  5.3,  2.4,  5.4,  4.2],\n",
       "       [ 1.2,  0.4,  0.4,  2.5,  2.6,  2.9,  2.2,  1.8,  1.6,  2.3,  0.9,\n",
       "         0.6,  1.6,  2.3,  0.8,  2.5,  0. ],\n",
       "       [ 4.9,  5. ,  8.9,  5. ,  9. ,  1.4,  5.5,  7.6,  8.5,  7.1,  0.7,\n",
       "         9.5,  5.4,  8.8, 10.1,  4.3,  0.6],\n",
       "       [ 4.9,  6.7,  2. ,  5.5,  6.7,  7.6,  6.7,  6. ,  7.8,  4.1,  8.9,\n",
       "         6.9,  4.7,  3.2,  2.1,  2.8,  0.5]])"
      ]
     },
     "execution_count": 22,
     "metadata": {},
     "output_type": "execute_result"
    }
   ],
   "source": [
    "data = np.loadtxt(path + '/EXAM_DATA_2021/distances.txt')\n",
    "labels = np.loadtxt(path + '/EXAM_DATA_2021/labels.txt')"
   ]
  },
  {
   "cell_type": "code",
   "execution_count": 41,
   "metadata": {},
   "outputs": [
    {
     "data": {
      "text/plain": [
       "(0.5384615384615384, 0.5384615384615384)"
      ]
     },
     "execution_count": 41,
     "metadata": {},
     "output_type": "execute_result"
    }
   ],
   "source": [
    "# Q 4\n",
    "min_dist = np.min(data, axis=0)\n",
    "idx = data[1,:] == min_dist\n",
    "(labels[idx] == 1).sum()/(labels[idx] != 0).sum(), (7/(7+6))\n"
   ]
  },
  {
   "cell_type": "code",
   "execution_count": 48,
   "metadata": {},
   "outputs": [
    {
     "data": {
      "text/plain": [
       "(0.0044444444444444444, 0.14333333333333334, 0.8488888888888889)"
      ]
     },
     "execution_count": 48,
     "metadata": {},
     "output_type": "execute_result"
    }
   ],
   "source": [
    "# Q  5\n",
    "\n",
    "l1 = np.array([[0, 0, 0], [0, 0.04, 0], [0, 0, 0]])\n",
    "l2 = np.array([[0.02, 0.01, 0.01], [0.15, 0.9, 0.01], [0.15, 0.02, 0.02]])\n",
    "l3 = 1 - (l2+l1)\n",
    "l3[np.where(l3 == 0.99)] = 0.98\n",
    "l3\n",
    "\n",
    "l1.mean(), l2.mean(), l3.mean()"
   ]
  },
  {
   "cell_type": "code",
   "execution_count": 70,
   "metadata": {},
   "outputs": [
    {
     "data": {
      "image/png": "[encoded data removed]",
      "text/plain": [
       "<Figure size 432x288 with 2 Axes>"
      ]
     },
     "metadata": {
      "needs_background": "light"
     },
     "output_type": "display_data"
    }
   ],
   "source": [
    "# Q 6 \n",
    "\n",
    "p = np.loadtxt(path + '/EXAM_DATA_2021/points_p.txt')\n",
    "q = np.loadtxt(path + '/EXAM_DATA_2021/points_q.txt')\n",
    "theta = np.deg2rad(140)\n",
    "t = np.array([[36, 13]]).T\n",
    "R = np.array([[np.cos(theta), -np.sin(theta)], [np.sin(theta), np.cos(theta)]])\n",
    "s = 1.7\n",
    "\n",
    "\n",
    "p_ = R.T@((q-t)/s)\n",
    "\n",
    "distance = np.sqrt(np.sum((p-p_)**2, axis=0))\n",
    "outliers = (distance>=2).sum()\n",
    "outliers\n",
    "\n",
    "fig,ax = plt.subplots(1,2)\n",
    "ax[0].plot(p[0], p[1], 'r.', q[0], q [1], 'b.')\n",
    "ax[0].plot(np.stack((p[0], q[0])), np.stack((p[1], q[1])), 'k', linewidth = 0.3)\n",
    "ax[0].set_aspect('equal')\n",
    "ax[1].plot(p[0], p[1], 'r.', p_[0], p_[1], 'b.')\n",
    "ax[1].plot(np.stack((p[0], p_[0])), np.stack((p[1],p_[1])),  'k', linewidth = 0.3)\n",
    "ax[1].set_aspect('equal')\n"
   ]
  },
  {
   "cell_type": "code",
   "execution_count": 75,
   "metadata": {},
   "outputs": [
    {
     "data": {
      "text/plain": [
       "84.21995013059554"
      ]
     },
     "execution_count": 75,
     "metadata": {},
     "output_type": "execute_result"
    }
   ],
   "source": [
    "dx = (-209+147)\n",
    "dy = (215-158)\n",
    "nabla = np.sqrt(dx**2 + dy**2)\n",
    "nabla"
   ]
  },
  {
   "cell_type": "code",
   "execution_count": 78,
   "metadata": {},
   "outputs": [
    {
     "data": {
      "text/plain": [
       "-290"
      ]
     },
     "execution_count": 78,
     "metadata": {},
     "output_type": "execute_result"
    }
   ],
   "source": [
    "# Q 10 \n",
    "E_current = np.abs(20-52)**2 + 1*125\n",
    "E_new = np.abs(30-52)**2 + 3*125 \n",
    "change = E_new - E_current\n",
    "change"
   ]
  },
  {
   "cell_type": "code",
   "execution_count": 85,
   "metadata": {},
   "outputs": [
    {
     "data": {
      "text/plain": [
       "(194, 194, 37636, 64, 49)"
      ]
     },
     "execution_count": 85,
     "metadata": {},
     "output_type": "execute_result"
    }
   ],
   "source": [
    "400-11+1, 560-11+1, (400-11+1) * (560-11+1)\n",
    "201-8+1, 201-8+1, (201-8+1) * (201-8+1), 8*8, 7*7"
   ]
  },
  {
   "cell_type": "code",
   "execution_count": 121,
   "metadata": {},
   "outputs": [],
   "source": [
    "def gauss(sigma, o=0):\n",
    "    \"\"\"\n",
    "    Parameters\n",
    "    ----------\n",
    "    sigma : Integer\n",
    "        Variance of the gaussian\n",
    "    x : List\n",
    "        List to which you'd like to apply the gauusian\n",
    "    o : TYPE, int\n",
    "        The default is 0.\n",
    "\n",
    "    Returns\n",
    "    -------\n",
    "    g : list\n",
    "        List of values with the gaussian applied\n",
    "\n",
    "    \"\"\"\n",
    "    s_f = np.ceil(5*np.sqrt(sigma))\n",
    "    x = np.arange(-s_f, s_f + 1)\n",
    "    # x = np.linspace(start =-s_f, stop= s_f, num=18)\n",
    "    print(x)\n",
    "    # print(x1)\n",
    "    s = np.sqrt(sigma)\n",
    "    e = np.exp((-x**2)/(2*s**2))\n",
    "    if o == 0:\n",
    "        g = 1/(np.sqrt(2*np.pi*s**2))*e\n",
    "    elif o == 1:\n",
    "        g = -x/(s**3*np.sqrt(2*np.pi))*e\n",
    "    elif o == 2:\n",
    "        g = (e/(s**3*np.sqrt(2*np.pi)))*(-1+((x**2)/(s**2)))\n",
    "    elif o == 3:\n",
    "        g = (-2*(-x/(s**3*np.sqrt(2*np.pi))*e))/s**2 - x/s**2*(e/(s**3*np.sqrt(2*np.pi)))*(-1+((x**2)/(s**2)))\n",
    "    else:\n",
    "        print('Please choose between 0, 1, 2 deriatives')\n",
    "    return np.expand_dims(g,axis=1)"
   ]
  },
  {
   "cell_type": "code",
   "execution_count": 88,
   "metadata": {},
   "outputs": [],
   "source": [
    "import numpy as np\n",
    "import scipy.ndimage\n",
    "\n",
    "def get_gauss_feat_im(im, sigma=1, normalize=True):\n",
    "    \"\"\"Gauss derivative feaures for every image pixel.\n",
    "    Arguments:\n",
    "        image: a 2D image, shape (r,c).\n",
    "        sigma: standard deviation for Gaussian derivatives.\n",
    "        normalize: flag indicating normalization of features.\n",
    "    Returns:\n",
    "        imfeat: 3D array of size (r,c,15) with a 15-dimentional feature\n",
    "             vector for every pixel in the image.\n",
    "    Author: vand@dtu.dk, 2020\n",
    "    \"\"\"\n",
    "      \n",
    "    r,c = im.shape\n",
    "    imfeat = np.zeros((r,c,15))\n",
    "    imfeat[:,:,0] = scipy.ndimage.gaussian_filter(im,sigma,order=0)\n",
    "    imfeat[:,:,1] = scipy.ndimage.gaussian_filter(im,sigma,order=[0,1])\n",
    "    imfeat[:,:,2] = scipy.ndimage.gaussian_filter(im,sigma,order=[1,0])\n",
    "    imfeat[:,:,3] = scipy.ndimage.gaussian_filter(im,sigma,order=[0,2])\n",
    "    imfeat[:,:,4] = scipy.ndimage.gaussian_filter(im,sigma,order=[1,1])\n",
    "    imfeat[:,:,5] = scipy.ndimage.gaussian_filter(im,sigma,order=[2,0])\n",
    "    imfeat[:,:,6] = scipy.ndimage.gaussian_filter(im,sigma,order=[0,3])\n",
    "    imfeat[:,:,7] = scipy.ndimage.gaussian_filter(im,sigma,order=[1,2])\n",
    "    imfeat[:,:,8] = scipy.ndimage.gaussian_filter(im,sigma,order=[2,1])\n",
    "    imfeat[:,:,9] = scipy.ndimage.gaussian_filter(im,sigma,order=[3,0])\n",
    "    imfeat[:,:,10] = scipy.ndimage.gaussian_filter(im,sigma,order=[0,4])\n",
    "    imfeat[:,:,11] = scipy.ndimage.gaussian_filter(im,sigma,order=[1,3])\n",
    "    imfeat[:,:,12] = scipy.ndimage.gaussian_filter(im,sigma,order=[2,2])\n",
    "    imfeat[:,:,13] = scipy.ndimage.gaussian_filter(im,sigma,order=[3,1])\n",
    "    imfeat[:,:,14] = scipy.ndimage.gaussian_filter(im,sigma,order=[4,0])\n",
    "\n",
    "    if normalize:\n",
    "        imfeat -= np.mean(imfeat, axis=(0,1))\n",
    "        imfeat /= np.std(imfeat, axis=(0,1))\n",
    "    \n",
    "    return imfeat"
   ]
  },
  {
   "cell_type": "code",
   "execution_count": 93,
   "metadata": {},
   "outputs": [],
   "source": [
    "im = np.array([[200, 210, 235, 167, 187],\n",
    "               [198, 194, 187, 176, 185],\n",
    "               [156, 188, 165, 156, 156],\n",
    "               [145, 165, 158, 165, 157],\n",
    "               [152, 127, 125, 176, 100]])\n",
    "im = im/255"
   ]
  },
  {
   "cell_type": "code",
   "execution_count": 100,
   "metadata": {},
   "outputs": [
    {
     "data": {
      "text/plain": [
       "array([[ 1.18544006,  0.61076604,  0.39050294,  0.61558892,  1.1764132 ],\n",
       "       [ 0.63689081, -0.86363791, -1.43877109, -0.85099908,  0.61324454],\n",
       "       [ 0.42715381, -1.42738456, -2.13821487, -1.41176753,  0.39791022],\n",
       "       [ 0.63608365, -0.86574947, -1.44138195, -0.85311635,  0.61243373],\n",
       "       [ 1.18638184,  0.61323239,  0.39356014,  0.61806443,  1.17735609]])"
      ]
     },
     "execution_count": 100,
     "metadata": {},
     "output_type": "execute_result"
    }
   ],
   "source": [
    "feat = get_gauss_feat_im(im, sigma = 4, normalize=True)\n",
    "feat[:,:,11]"
   ]
  },
  {
   "cell_type": "code",
   "execution_count": 122,
   "metadata": {},
   "outputs": [
    {
     "data": {
      "text/plain": [
       "array([[0.49803922, 0.49803922, 0.49803922, ..., 0.49803922, 0.49803922,\n",
       "        0.49803922],\n",
       "       [0.49803922, 0.49803922, 0.49803922, ..., 0.49803922, 0.49803922,\n",
       "        0.49803922],\n",
       "       [0.49803922, 0.49803922, 0.49803922, ..., 0.49803922, 0.49803922,\n",
       "        0.49803922],\n",
       "       ...,\n",
       "       [0.49803922, 0.49803922, 0.49803922, ..., 0.49803922, 0.49803922,\n",
       "        0.49803922],\n",
       "       [0.49803922, 0.49803922, 0.49803922, ..., 0.49803922, 0.49803922,\n",
       "        0.49803922],\n",
       "       [0.49803922, 0.49803922, 0.49803922, ..., 0.49803922, 0.49803922,\n",
       "        0.49803922]])"
      ]
     },
     "execution_count": 122,
     "metadata": {},
     "output_type": "execute_result"
    },
    {
     "data": {
      "image/png": "[encoded data removed]",
      "text/plain": [
       "<Figure size 432x288 with 1 Axes>"
      ]
     },
     "metadata": {
      "needs_background": "light"
     },
     "output_type": "display_data"
    }
   ],
   "source": [
    "im = skimage.io.imread('../Exam_2021/test_blob_uniform.png')/255\n",
    "\n",
    "plt.imshow(im, cmap='gray')\n",
    "im"
   ]
  },
  {
   "cell_type": "code",
   "execution_count": 123,
   "metadata": {},
   "outputs": [
    {
     "name": "stdout",
     "output_type": "stream",
     "text": [
      "[-9. -8. -7. -6. -5. -4. -3. -2. -1.  0.  1.  2.  3.  4.  5.  6.  7.  8.\n",
      "  9.]\n",
      "[-9. -8. -7. -6. -5. -4. -3. -2. -1.  0.  1.  2.  3.  4.  5.  6.  7.  8.\n",
      "  9.]\n"
     ]
    },
    {
     "data": {
      "text/plain": [
       "array([[-8.89518228e-07, -8.89518228e-07, -8.89518228e-07, ...,\n",
       "        -8.89518228e-07, -8.89518228e-07, -8.89518228e-07],\n",
       "       [-8.89518228e-07, -8.89518228e-07, -8.89518228e-07, ...,\n",
       "        -8.89518228e-07, -8.89518228e-07, -8.89518228e-07],\n",
       "       [-8.89518228e-07, -8.89518228e-07, -8.89518228e-07, ...,\n",
       "        -8.89518228e-07, -8.89518228e-07, -8.89518228e-07],\n",
       "       ...,\n",
       "       [-8.89518228e-07, -8.89518228e-07, -8.89518228e-07, ...,\n",
       "        -8.89518228e-07, -8.89518228e-07, -8.89518228e-07],\n",
       "       [-8.89518228e-07, -8.89518228e-07, -8.89518228e-07, ...,\n",
       "        -8.89518228e-07, -8.89518228e-07, -8.89518228e-07],\n",
       "       [-8.89518228e-07, -8.89518228e-07, -8.89518228e-07, ...,\n",
       "        -8.89518228e-07, -8.89518228e-07, -8.89518228e-07]])"
      ]
     },
     "execution_count": 123,
     "metadata": {},
     "output_type": "execute_result"
    }
   ],
   "source": [
    "thres = 0.05\n",
    "\n",
    "def laplacian(I, sigma, smooth=None):\n",
    "    if smooth:  # Apply smoothness \n",
    "        g = gauss(sigma)\n",
    "        Ix = cv2.filter2D(I,-1,g)\n",
    "        Iy = cv2.filter2D(I,-1,g.T) \n",
    "        # Apply gausians so we can use the semi-group property\n",
    "        Im = cv2.filter2D(cv2.filter2D(I,-1,g),-1,g.T) \n",
    "    else:\n",
    "        Ix = Iy = I\n",
    "        Im = I\n",
    "        \n",
    "    g2 = gauss(sigma, o = 2)  # 2dn derivative\n",
    "    I_xx = cv2.filter2D(Ix, -1, g2.T)  # On the X axis we apply the transpose the kernel. As we want to detect the perpendicular edges\n",
    "    I_yy = cv2.filter2D(Iy, -1, g2)\n",
    "    lap = sigma*(I_xx + I_yy)\n",
    "    return lap, Im\n",
    "\n",
    "\n",
    "sigma = 3\n",
    "I_lap,_ = laplacian(im, sigma, smooth = True)\n",
    "I_lap"
   ]
  },
  {
   "cell_type": "code",
   "execution_count": 124,
   "metadata": {},
   "outputs": [
    {
     "data": {
      "text/plain": [
       "(813, 2)"
      ]
     },
     "execution_count": 124,
     "metadata": {},
     "output_type": "execute_result"
    }
   ],
   "source": [
    "# Get the coordinates from the white circles\n",
    "c_pos = skimage.feature.peak_local_max(I_lap, min_distance=2, threshold_abs=thres)\n",
    "# Get the coordinates of the black circles\n",
    "c_neg = skimage.feature.peak_local_max(-I_lap, min_distance=2, threshold_abs=thres)\n",
    "\n",
    "# Concat both coordinate arrays in a single array.\n",
    "coord = np.r_[c_pos, c_neg]\n",
    "\n",
    "coord.shape"
   ]
  },
  {
   "cell_type": "code",
   "execution_count": null,
   "metadata": {},
   "outputs": [],
   "source": []
  }
 ],
 "metadata": {
  "interpreter": {
   "hash": "e52dddd8ca2ba95afe67578a96296e9b17628fddb050e9ee950fdfaca96878c3"
  },
  "kernelspec": {
   "display_name": "Python 3.8.12 ('base')",
   "language": "python",
   "name": "python3"
  },
  "language_info": {
   "codemirror_mode": {
    "name": "ipython",
    "version": 3
   },
   "file_extension": ".py",
   "mimetype": "text/x-python",
   "name": "python",
   "nbconvert_exporter": "python",
   "pygments_lexer": "ipython3",
   "version": "3.8.12"
  },
  "orig_nbformat": 4
 },
 "nbformat": 4,
 "nbformat_minor": 2
}
