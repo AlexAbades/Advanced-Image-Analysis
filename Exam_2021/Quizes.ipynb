{
 "cells": [
  {
   "cell_type": "code",
   "execution_count": 12,
   "metadata": {},
   "outputs": [],
   "source": [
    "import numpy as np \n",
    "import pandas as pd \n",
    "import time\n",
    "from tqdm import tqdm "
   ]
  },
  {
   "cell_type": "code",
   "execution_count": 54,
   "metadata": {},
   "outputs": [
    {
     "data": {
      "text/plain": [
       "(array([[-1.43,  0.33]]), array([[0.14679034, 0.85320966]]))"
      ]
     },
     "execution_count": 54,
     "metadata": {},
     "output_type": "execute_result"
    }
   ],
   "source": [
    "# Note the bias in the first column \n",
    "W1 = np.array([[0.2, -1.3], [-0.3, 1.8], [-1.7, 1.6]])\n",
    "W2 = np.array([[-1.4, 1.5, -0.5, 0.9], [0.2, 1.2, -0.9, 1.7]])\n",
    "X = np.array([1, 2.5])\n",
    "\n",
    "z1 = X@W1.T\n",
    "\n",
    "def activation(z):\n",
    "    \n",
    "    return np.maximum(z, 0)[None,:]\n",
    "\n",
    "h1 = activation(z1)\n",
    "h1.shape, h1\n",
    "\n",
    "h1 = np.c_[np.ones((h1.shape[0], 1)), h1]\n",
    "y = h1@W2.T\n",
    "y , np.exp(y)/np.exp(y).sum()"
   ]
  },
  {
   "cell_type": "code",
   "execution_count": 34,
   "metadata": {},
   "outputs": [],
   "source": []
  },
  {
   "cell_type": "code",
   "execution_count": null,
   "metadata": {},
   "outputs": [],
   "source": []
  }
 ],
 "metadata": {
  "interpreter": {
   "hash": "e52dddd8ca2ba95afe67578a96296e9b17628fddb050e9ee950fdfaca96878c3"
  },
  "kernelspec": {
   "display_name": "Python 3.8.12 ('base')",
   "language": "python",
   "name": "python3"
  },
  "language_info": {
   "codemirror_mode": {
    "name": "ipython",
    "version": 3
   },
   "file_extension": ".py",
   "mimetype": "text/x-python",
   "name": "python",
   "nbconvert_exporter": "python",
   "pygments_lexer": "ipython3",
   "version": "3.8.12"
  },
  "orig_nbformat": 4
 },
 "nbformat": 4,
 "nbformat_minor": 2
}
